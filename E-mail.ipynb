{
 "cells": [
  {
   "cell_type": "code",
   "execution_count": 1,
   "metadata": {},
   "outputs": [
    {
     "ename": "SMTPAuthenticationError",
     "evalue": "(535, b'5.7.8 Username and Password not accepted. Learn more at\\n5.7.8  https://support.google.com/mail/?p=BadCredentials r18-20020a544892000000b0033a5101e698sm4381150oic.28 - gsmtp')",
     "output_type": "error",
     "traceback": [
      "\u001b[1;31m---------------------------------------------------------------------------\u001b[0m",
      "\u001b[1;31mSMTPAuthenticationError\u001b[0m                   Traceback (most recent call last)",
      "\u001b[1;32mc:\\Users\\Lenovo\\Desktop\\Python_Impressionador\\1 Projeto_Automação_Processos\\inicial\\E-mail.ipynb Célula: 1\u001b[0m in \u001b[0;36m<cell line: 69>\u001b[1;34m()\u001b[0m\n\u001b[0;32m     <a href='vscode-notebook-cell:/c%3A/Users/Lenovo/Desktop/Python_Impressionador/1%20Projeto_Automa%C3%A7%C3%A3o_Processos/inicial/E-mail.ipynb#ch0000000?line=66'>67</a>\u001b[0m s \u001b[39m=\u001b[39m smtplib\u001b[39m.\u001b[39mSMTP(\u001b[39m'\u001b[39m\u001b[39msmtp.gmail.com\u001b[39m\u001b[39m'\u001b[39m, \u001b[39m587\u001b[39m) \n\u001b[0;32m     <a href='vscode-notebook-cell:/c%3A/Users/Lenovo/Desktop/Python_Impressionador/1%20Projeto_Automa%C3%A7%C3%A3o_Processos/inicial/E-mail.ipynb#ch0000000?line=67'>68</a>\u001b[0m s\u001b[39m.\u001b[39mstarttls() \n\u001b[1;32m---> <a href='vscode-notebook-cell:/c%3A/Users/Lenovo/Desktop/Python_Impressionador/1%20Projeto_Automa%C3%A7%C3%A3o_Processos/inicial/E-mail.ipynb#ch0000000?line=68'>69</a>\u001b[0m s\u001b[39m.\u001b[39;49mlogin(fromaddr, \u001b[39m\"\u001b[39;49m\u001b[39mxpgloxchdsmlvcsl\u001b[39;49m\u001b[39m\"\u001b[39;49m) \n\u001b[0;32m     <a href='vscode-notebook-cell:/c%3A/Users/Lenovo/Desktop/Python_Impressionador/1%20Projeto_Automa%C3%A7%C3%A3o_Processos/inicial/E-mail.ipynb#ch0000000?line=69'>70</a>\u001b[0m text \u001b[39m=\u001b[39m msg\u001b[39m.\u001b[39mas_string() \n\u001b[0;32m     <a href='vscode-notebook-cell:/c%3A/Users/Lenovo/Desktop/Python_Impressionador/1%20Projeto_Automa%C3%A7%C3%A3o_Processos/inicial/E-mail.ipynb#ch0000000?line=70'>71</a>\u001b[0m s\u001b[39m.\u001b[39msendmail(fromaddr, toaddr, text) \n",
      "File \u001b[1;32mc:\\Users\\Lenovo\\AppData\\Local\\Programs\\Python\\Python310\\lib\\smtplib.py:750\u001b[0m, in \u001b[0;36mSMTP.login\u001b[1;34m(self, user, password, initial_response_ok)\u001b[0m\n\u001b[0;32m    747\u001b[0m         last_exception \u001b[39m=\u001b[39m e\n\u001b[0;32m    749\u001b[0m \u001b[39m# We could not login successfully.  Return result of last attempt.\u001b[39;00m\n\u001b[1;32m--> 750\u001b[0m \u001b[39mraise\u001b[39;00m last_exception\n",
      "File \u001b[1;32mc:\\Users\\Lenovo\\AppData\\Local\\Programs\\Python\\Python310\\lib\\smtplib.py:739\u001b[0m, in \u001b[0;36mSMTP.login\u001b[1;34m(self, user, password, initial_response_ok)\u001b[0m\n\u001b[0;32m    737\u001b[0m method_name \u001b[39m=\u001b[39m \u001b[39m'\u001b[39m\u001b[39mauth_\u001b[39m\u001b[39m'\u001b[39m \u001b[39m+\u001b[39m authmethod\u001b[39m.\u001b[39mlower()\u001b[39m.\u001b[39mreplace(\u001b[39m'\u001b[39m\u001b[39m-\u001b[39m\u001b[39m'\u001b[39m, \u001b[39m'\u001b[39m\u001b[39m_\u001b[39m\u001b[39m'\u001b[39m)\n\u001b[0;32m    738\u001b[0m \u001b[39mtry\u001b[39;00m:\n\u001b[1;32m--> 739\u001b[0m     (code, resp) \u001b[39m=\u001b[39m \u001b[39mself\u001b[39;49m\u001b[39m.\u001b[39;49mauth(\n\u001b[0;32m    740\u001b[0m         authmethod, \u001b[39mgetattr\u001b[39;49m(\u001b[39mself\u001b[39;49m, method_name),\n\u001b[0;32m    741\u001b[0m         initial_response_ok\u001b[39m=\u001b[39;49minitial_response_ok)\n\u001b[0;32m    742\u001b[0m     \u001b[39m# 235 == 'Authentication successful'\u001b[39;00m\n\u001b[0;32m    743\u001b[0m     \u001b[39m# 503 == 'Error: already authenticated'\u001b[39;00m\n\u001b[0;32m    744\u001b[0m     \u001b[39mif\u001b[39;00m code \u001b[39min\u001b[39;00m (\u001b[39m235\u001b[39m, \u001b[39m503\u001b[39m):\n",
      "File \u001b[1;32mc:\\Users\\Lenovo\\AppData\\Local\\Programs\\Python\\Python310\\lib\\smtplib.py:662\u001b[0m, in \u001b[0;36mSMTP.auth\u001b[1;34m(self, mechanism, authobject, initial_response_ok)\u001b[0m\n\u001b[0;32m    660\u001b[0m \u001b[39mif\u001b[39;00m code \u001b[39min\u001b[39;00m (\u001b[39m235\u001b[39m, \u001b[39m503\u001b[39m):\n\u001b[0;32m    661\u001b[0m     \u001b[39mreturn\u001b[39;00m (code, resp)\n\u001b[1;32m--> 662\u001b[0m \u001b[39mraise\u001b[39;00m SMTPAuthenticationError(code, resp)\n",
      "\u001b[1;31mSMTPAuthenticationError\u001b[0m: (535, b'5.7.8 Username and Password not accepted. Learn more at\\n5.7.8  https://support.google.com/mail/?p=BadCredentials r18-20020a544892000000b0033a5101e698sm4381150oic.28 - gsmtp')"
     ]
    }
   ],
   "source": [
    "from lib2to3.pgen2 import driver\n",
    "import smtplib \n",
    "from email.mime.multipart import MIMEMultipart \n",
    "from email.mime.text import MIMEText \n",
    "from email.mime.base import MIMEBase \n",
    "from email import encoders \n",
    "   \n",
    "fromaddr = \"teste.testeConfig@gmail.com\"\n",
    "toaddr = \"teste.testeConfig@gmail.com\"\n",
    "   \n",
    "msg = MIMEMultipart() \n",
    "msg['From'] = fromaddr \n",
    "msg['To'] = toaddr \n",
    "msg['Subject'] = \"Teste de envio gmail\"\n",
    "body = \"\"\"\n",
    "<p>Bom dia, {nome}</p>\n",
    "\n",
    "<p>O resultado de ontem <strong>({dia_indicador.day}/{dia_indicador.month})</strong> da Loja <strong>{loja}</strong> foi:</p>\n",
    "\n",
    "<table>\n",
    "<tr>\n",
    "    <th>INDICADOR</th>\n",
    "    <th>VALOR DIA</th>\n",
    "    <th>META DIA</th>\n",
    "    <th>CENARIO DIA</th>\n",
    "</tr>\n",
    "<tr>\n",
    "    <td>Faturamento</td>\n",
    "    <td style=\"text-align: center\">{fat_dia}</td>\n",
    "    <td style=\"text-align: center\">{meta_fat_dia}</td>\n",
    "    <td style=\"text-align: center\"><font color={cor_fat_dia}>◙</font></td>\n",
    "</tr>\n",
    "<tr>\n",
    "    <td>Diversidade de Produtos</td>\n",
    "    <td style=\"text-align: center\">{qtde_produtos_dia}</td>\n",
    "    <td style=\"text-align: center\">{meta_prod_dia}</td>\n",
    "    <td style=\"text-align: center\"><font color=\"{cor_pro_dia}\">◙</font></td>\n",
    "</tr>\n",
    "<tr>\n",
    "    <td>Ticket Médio</td>\n",
    "    <td style=\"text-align: center\">{ticket_medio_dia}</td>\n",
    "    <td style=\"text-align: center\">{meta_ticket_medio_dia}</td>\n",
    "    <td style=\"text-align: center\"><font color=\"{cor_tick_dia}\">◙</font></td>\n",
    "</tr>\n",
    "</table>\n",
    "\n",
    "</body>\n",
    "\n",
    "<p>Segue Planilha com os dados para mais detalhes.</p>\n",
    "\n",
    "<p>Qualquer dúvida estou a disposição.</p>\n",
    "\n",
    "<p>Atenciosamente,</p>\n",
    "\n",
    "<p>João Medeiros</p>\n",
    "\"\"\"\n",
    "\n",
    "msg.attach(MIMEText(body, 'html')) \n",
    "filename = \"26_12_Shopping Barra.xlsx\"\n",
    "attachment = open(r\"C:\\Users\\Lenovo\\Desktop\\Python_Impressionador\\1 Projeto_Automação_Processos\\inicial\\Backup Arquivos Lojas\\Shopping Barra\\26_12_Shopping Barra.xlsx\", \"rb\") \n",
    "p = MIMEBase('application', 'octet-stream') \n",
    "p.set_payload((attachment).read()) \n",
    "encoders.encode_base64(p) \n",
    "   \n",
    "p.add_header('Content-Disposition', \"attachment; filename= %s\" % filename) \n",
    "msg.attach(p) \n",
    "s = smtplib.SMTP('smtp.gmail.com', 587) \n",
    "s.starttls() \n",
    "s.login(fromaddr, \"xpgloxchdsmlvcsl\") \n",
    "text = msg.as_string() \n",
    "s.sendmail(fromaddr, toaddr, text) \n",
    "print('Email enviado')"
   ]
  }
 ],
 "metadata": {
  "kernelspec": {
   "display_name": "Python 3.10.0 64-bit",
   "language": "python",
   "name": "python3"
  },
  "language_info": {
   "codemirror_mode": {
    "name": "ipython",
    "version": 3
   },
   "file_extension": ".py",
   "mimetype": "text/x-python",
   "name": "python",
   "nbconvert_exporter": "python",
   "pygments_lexer": "ipython3",
   "version": "3.10.0"
  },
  "orig_nbformat": 4,
  "vscode": {
   "interpreter": {
    "hash": "8c3d4d9970fc5c09c50d9318a9c7fbf4d0159e4b28833276f5678ee22bded273"
   }
  }
 },
 "nbformat": 4,
 "nbformat_minor": 2
}
